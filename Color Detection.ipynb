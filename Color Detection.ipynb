{
 "cells": [
  {
   "cell_type": "markdown",
   "id": "90ff24c8",
   "metadata": {},
   "source": [
    "### Load Important library "
   ]
  },
  {
   "cell_type": "code",
   "execution_count": 1,
   "id": "ee072591",
   "metadata": {},
   "outputs": [],
   "source": [
    "# Regular EDA (exploratory data analysis) and plotting libraries\n",
    "import os\n",
    "import numpy as np\n",
    "import pandas as pd\n",
    "import cv2"
   ]
  },
  {
   "cell_type": "markdown",
   "id": "94a4361b",
   "metadata": {},
   "source": [
    "### Set Working Directory "
   ]
  },
  {
   "cell_type": "code",
   "execution_count": 2,
   "id": "04318d4d",
   "metadata": {},
   "outputs": [],
   "source": [
    "os.chdir(\"C:\\\\Internships & Projects\\\\DevStackSolution\\\\ColorDetection\")"
   ]
  },
  {
   "cell_type": "markdown",
   "id": "5a757473",
   "metadata": {},
   "source": [
    "### Read Image "
   ]
  },
  {
   "cell_type": "code",
   "execution_count": 3,
   "id": "d9df3b90",
   "metadata": {},
   "outputs": [],
   "source": [
    "#Reading image with opencv\n",
    "img = cv2.imread('colorpic.jpg')\n",
    "\n",
    "clicked = False\n",
    "r = g = b = xpos = ypos = 0"
   ]
  },
  {
   "cell_type": "markdown",
   "id": "0b93ff12",
   "metadata": {},
   "source": [
    "### Load The Data "
   ]
  },
  {
   "cell_type": "code",
   "execution_count": 4,
   "id": "87a4db9c",
   "metadata": {},
   "outputs": [],
   "source": [
    "#Reading csv file with pandas and giving names to each column\n",
    "index=[\"color\",\"color_name\",\"hex\",\"R\",\"G\",\"B\"]\n",
    "csv = pd.read_csv('colors.csv', names=index, header=None)"
   ]
  },
  {
   "cell_type": "markdown",
   "id": "71ab4332",
   "metadata": {},
   "source": [
    "### Calculate distance to get color name "
   ]
  },
  {
   "cell_type": "code",
   "execution_count": 5,
   "id": "7a51f137",
   "metadata": {},
   "outputs": [],
   "source": [
    "#function to calculate minimum distance from all colors and get the most matching color\n",
    "def getColorName(R,G,B):\n",
    "    minimum = 10000\n",
    "    for i in range(len(csv)):\n",
    "        d = abs(R- int(csv.loc[i,\"R\"])) + abs(G- int(csv.loc[i,\"G\"]))+ abs(B- int(csv.loc[i,\"B\"]))\n",
    "        if(d<=minimum):\n",
    "            minimum = d\n",
    "            cname = csv.loc[i,\"color_name\"]\n",
    "    return cname"
   ]
  },
  {
   "cell_type": "markdown",
   "id": "a4af7768",
   "metadata": {},
   "source": [
    "### Create the draw_function "
   ]
  },
  {
   "cell_type": "code",
   "execution_count": 6,
   "id": "a9c027ce",
   "metadata": {},
   "outputs": [],
   "source": [
    "#function to get x,y coordinates of mouse double click\n",
    "def draw_function(event, x,y,flags,param):\n",
    "    if event == cv2.EVENT_LBUTTONDBLCLK:\n",
    "        global b,g,r,xpos,ypos, clicked\n",
    "        clicked = True\n",
    "        xpos = x\n",
    "        ypos = y\n",
    "        b,g,r = img[y,x]\n",
    "        b = int(b)\n",
    "        g = int(g)\n",
    "        r = int(r)"
   ]
  },
  {
   "cell_type": "markdown",
   "id": "b3979d52",
   "metadata": {},
   "source": [
    "### Set a mouse callback event on a window "
   ]
  },
  {
   "cell_type": "code",
   "execution_count": 7,
   "id": "d436ebb5",
   "metadata": {},
   "outputs": [],
   "source": [
    "cv2.namedWindow('image')\n",
    "cv2.setMouseCallback('image',draw_function)"
   ]
  },
  {
   "cell_type": "markdown",
   "id": "c11cdb12",
   "metadata": {},
   "source": [
    "### Display image on the window"
   ]
  },
  {
   "cell_type": "code",
   "execution_count": 8,
   "id": "ab29ee94",
   "metadata": {},
   "outputs": [],
   "source": [
    "while(1):\n",
    "    cv2.imshow(\"image\",img)\n",
    "    if (clicked):\n",
    "        #cv2.rectangle(image, startpoint, endpoint, color, thickness) -1 thickness fills rectangle entirely\n",
    "        cv2.rectangle(img,(20,20), (750,60), (b,g,r), -1)\n",
    "        #Creating text string to display ( Color name and RGB values )\n",
    "        text = getColorName(r,g,b) + ' R='+ str(r) + ' G='+ str(g) + ' B='+ str(b)\n",
    "        #cv2.putText(img,text,start,font(0-7), fontScale, color, thickness, lineType, (optional bottomLeft bool) )\n",
    "        cv2.putText(img, text,(50,50),2,0.8,(255,255,255),2,cv2.LINE_AA)\n",
    "  #For very light colours we will display text in black colour\n",
    "        if(r+g+b>=600):\n",
    "            cv2.putText(img, text,(50,50),2,0.8,(0,0,0),2,cv2.LINE_AA)\n",
    "        clicked=False\n",
    "    #Break the loop when user hits 'esc' key \n",
    "    if cv2.waitKey(20) & 0xFF ==27:\n",
    "        break\n",
    "cv2.destroyAllWindows()"
   ]
  }
 ],
 "metadata": {
  "kernelspec": {
   "display_name": "Python 3",
   "language": "python",
   "name": "python3"
  },
  "language_info": {
   "codemirror_mode": {
    "name": "ipython",
    "version": 3
   },
   "file_extension": ".py",
   "mimetype": "text/x-python",
   "name": "python",
   "nbconvert_exporter": "python",
   "pygments_lexer": "ipython3",
   "version": "3.8.8"
  }
 },
 "nbformat": 4,
 "nbformat_minor": 5
}
